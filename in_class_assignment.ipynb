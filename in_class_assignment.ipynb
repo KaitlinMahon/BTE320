{
  "cells": [
    {
      "cell_type": "markdown",
      "metadata": {
        "id": "view-in-github",
        "colab_type": "text"
      },
      "source": [
        "<a href=\"https://colab.research.google.com/github/KaitlinMahon/BTE320/blob/main/in_class_assignment.ipynb\" target=\"_parent\"><img src=\"https://colab.research.google.com/assets/colab-badge.svg\" alt=\"Open In Colab\"/></a>"
      ]
    },
    {
      "cell_type": "markdown",
      "source": [
        "Shape Area Calculator"
      ],
      "metadata": {
        "id": "USL-QwB74aKz"
      }
    },
    {
      "cell_type": "code",
      "execution_count": null,
      "metadata": {
        "id": "8T1Rsci_JlUa",
        "colab": {
          "base_uri": "https://localhost:8080/"
        },
        "outputId": "7f5a9a15-91d9-4a32-9de5-57430f8f206e"
      },
      "outputs": [
        {
          "output_type": "stream",
          "name": "stdout",
          "text": [
            "244.92000000000002\n"
          ]
        }
      ],
      "source": [
        "pi = 3.14\n",
        "r = 3\n",
        "h =  10\n",
        "area = 2 * pi * r ** 2 + 2 * pi * r * h\n",
        "print (area)\n"
      ]
    },
    {
      "cell_type": "markdown",
      "source": [
        "Numerical Calculator"
      ],
      "metadata": {
        "id": "DjUzmlKUwaj6"
      }
    },
    {
      "cell_type": "code",
      "execution_count": null,
      "metadata": {
        "id": "CCv5a-f8J4j6",
        "colab": {
          "base_uri": "https://localhost:8080/"
        },
        "outputId": "d35afd37-73f7-4bd6-f1d7-6ee8e3a1b5f7"
      },
      "outputs": [
        {
          "output_type": "stream",
          "name": "stdout",
          "text": [
            "enter your number:1\n",
            "enter your second number:2\n",
            "choose operation: (+,-,*,/,**)+\n",
            "3.0\n"
          ]
        }
      ],
      "source": [
        "n1=float(input('enter your number:'))\n",
        "n2=float(input('enter your second number:'))\n",
        "n3=input('choose operation: (+,-,*,/,**)')\n",
        "if n3== '+' :\n",
        "  print(n1+n2)\n",
        "elif n3=='-':\n",
        "  print(n1-n2)\n",
        "elif n3=='*':\n",
        "  print(n1*n2)\n",
        "elif n3=='/':\n",
        "  print(n1/n2)\n",
        "else:\n",
        "  print(n1**n2)"
      ]
    },
    {
      "cell_type": "markdown",
      "source": [
        "Rock paper scissor (while loop)"
      ],
      "metadata": {
        "id": "HfHuG_Slwe0B"
      }
    },
    {
      "cell_type": "code",
      "execution_count": null,
      "metadata": {
        "id": "FHEdorP4yhst",
        "colab": {
          "base_uri": "https://localhost:8080/"
        },
        "outputId": "6e18d7cc-8d0b-4c06-a06f-b1c11b2cd690"
      },
      "outputs": [
        {
          "name": "stdout",
          "output_type": "stream",
          "text": [
            "do you want to play yes or no:yes\n",
            "player 1 :: (r->rock, p->paper, or s->scissor)rock\n",
            "player 2 :: (r->rock, p->paper, or s->scissor)paper\n",
            "p2 wins\n",
            "do you want to play yes or no:no\n"
          ]
        }
      ],
      "source": [
        "\n",
        "i = input('do you want to play yes or no:')\n",
        "while i == 'yes':\n",
        "  p1= input('player 1 :: (r->rock, p->paper, or s->scissor)')\n",
        "  p2= input('player 2 :: (r->rock, p->paper, or s->scissor)')\n",
        "\n",
        "  if p1==p2:\n",
        "    print('draw')\n",
        "\n",
        "  elif p1=='r' and p2=='s':\n",
        "    print('p1 wins')\n",
        "\n",
        "  elif p1=='s' and p2 =='p':\n",
        "    print('p1 wins')\n",
        "\n",
        "  elif p1=='p' and p2 =='r':\n",
        "    print('p1 wins')\n",
        "\n",
        "  else:\n",
        "    print('p2 wins')\n",
        "\n",
        "  i = input('do you want to play yes or no:')"
      ]
    },
    {
      "cell_type": "markdown",
      "source": [
        "Parking Garage"
      ],
      "metadata": {
        "id": "U62Npvlu5Pty"
      }
    },
    {
      "cell_type": "code",
      "execution_count": null,
      "metadata": {
        "colab": {
          "base_uri": "https://localhost:8080/"
        },
        "id": "c5z5ldG09Mfi",
        "outputId": "18d8bee2-3dcb-4c9a-e7d8-2e4498ccc20e"
      },
      "outputs": [
        {
          "output_type": "stream",
          "name": "stdout",
          "text": [
            "1 10\n",
            "2 10.0\n",
            "3 12.5\n",
            "4 15.0\n",
            "5 17.5\n",
            "6 20.0\n",
            "7 20\n",
            "8 20\n"
          ]
        }
      ],
      "source": [
        "# a parking garage charges $5 plus 2.5 for each hour parked. the minimum fee is 10 dollars and the maximu is 20\n",
        "# write a program that generates a table with hours parked and the corresponding fee from 1-8 hours\n",
        "flatrate = 5\n",
        "hourlyrate = 2.5\n",
        "for h in range(1,9,1):\n",
        "  charge = flatrate + hourlyrate * h\n",
        "  if charge < 10:\n",
        "    charge = 10\n",
        "  elif charge > 20:\n",
        "    charge = 20\n",
        "  print(h,charge)\n"
      ]
    },
    {
      "cell_type": "code",
      "source": [
        "#write a program where a parking garage charges $5 plus $2.5 for each hours parked- prompts for number of hours parked and calculates/displays the parking fee charged\n",
        "#if you see a none when you make a function make sure you use the return! prolly just means you didnt add that line\n",
        "def calcFee(hours):\n",
        "  fee = 5 + hours * 2.5\n",
        "  return fee\n",
        "\n",
        "\n",
        "h=float(input('enter number of hours : '))\n",
        "fee=calcFee(h)\n",
        "print(fee)"
      ],
      "metadata": {
        "id": "H1MUHsJz7I0g",
        "colab": {
          "base_uri": "https://localhost:8080/"
        },
        "outputId": "908f0aee-0fbe-41f0-857f-ccddd903ecfa"
      },
      "execution_count": null,
      "outputs": [
        {
          "output_type": "stream",
          "name": "stdout",
          "text": [
            "enter number of hours : 5\n",
            "17.5\n"
          ]
        }
      ]
    },
    {
      "cell_type": "markdown",
      "source": [
        "Movie Theater"
      ],
      "metadata": {
        "id": "Hnc7CZ2R5RqJ"
      }
    },
    {
      "cell_type": "code",
      "execution_count": null,
      "metadata": {
        "colab": {
          "base_uri": "https://localhost:8080/"
        },
        "id": "wPEQ4Qp6Al_s",
        "outputId": "94361dc9-d216-437b-be9c-5f34dfc8060e"
      },
      "outputs": [
        {
          "name": "stdout",
          "output_type": "stream",
          "text": [
            "0 0\n",
            "25 75\n",
            "50 90\n",
            "75 95\n",
            "100 100\n",
            "125 95\n",
            "150 90\n",
            "175 85\n",
            "200 80\n"
          ]
        }
      ],
      "source": [
        "#each ticket is 10 without advertising 20 people attend additional attendees if advertising = 2x(sqroot addollars) fixed costs = 200 write a program to generate table\n",
        "# for different advertising amounts and profits\n",
        "ticket = 10\n",
        "forecast = 20\n",
        "fixedcost = 200\n",
        "for t in range (0,225,25):\n",
        "  addition = 2*(t**.5)\n",
        "  profit = round(addition+forecast)*ticket - fixedcost - t\n",
        "  print(t,profit)\n"
      ]
    },
    {
      "cell_type": "markdown",
      "source": [
        "Months to Numbers"
      ],
      "metadata": {
        "id": "61r9xTF66v76"
      }
    },
    {
      "cell_type": "code",
      "source": [
        "#populate a dictionary where the key comes from the list of numbers and the value is from the names\n",
        "months = {}\n",
        "names = [\"Jan\", \"Feb\", \"Mar\", \"Apr\", \"May\", \"Jun\", \"Jul\", \"Aug\", \"Sep\", \"Oct\", \"Nov\", \"Dec\"]\n",
        "numbers = [1,2,3,4,5,6,7,8,9,10,11,12]\n",
        "for idx in numbers:\n",
        "  months[idx]=names[idx-1]\n",
        "months"
      ],
      "metadata": {
        "colab": {
          "base_uri": "https://localhost:8080/"
        },
        "id": "KpjfRKxM9ciN",
        "outputId": "feddc78e-1cc3-43c2-b7c5-360f06b3140b"
      },
      "execution_count": null,
      "outputs": [
        {
          "output_type": "execute_result",
          "data": {
            "text/plain": [
              "{1: 'Jan',\n",
              " 2: 'Feb',\n",
              " 3: 'Mar',\n",
              " 4: 'Apr',\n",
              " 5: 'May',\n",
              " 6: 'Jun',\n",
              " 7: 'Jul',\n",
              " 8: 'Aug',\n",
              " 9: 'Sep',\n",
              " 10: 'Oct',\n",
              " 11: 'Nov',\n",
              " 12: 'Dec'}"
            ]
          },
          "metadata": {},
          "execution_count": 1
        }
      ]
    },
    {
      "cell_type": "code",
      "source": [
        "months[3] #indexes not keys"
      ],
      "metadata": {
        "id": "nb62rBKJ-nAh",
        "outputId": "4a04538c-b7ba-42a8-f5c6-3999fc07c7f1",
        "colab": {
          "base_uri": "https://localhost:8080/",
          "height": 35
        }
      },
      "execution_count": null,
      "outputs": [
        {
          "output_type": "execute_result",
          "data": {
            "text/plain": [
              "'Mar'"
            ],
            "application/vnd.google.colaboratory.intrinsic+json": {
              "type": "string"
            }
          },
          "metadata": {},
          "execution_count": 10
        }
      ]
    },
    {
      "cell_type": "markdown",
      "source": [
        "Fee Calculation and Display Functions"
      ],
      "metadata": {
        "id": "jce9a2cJ7Pyn"
      }
    },
    {
      "cell_type": "code",
      "source": [
        "#not make a refined program to have the fee to have 2 decimals\n",
        "def calcFee(hours, decimals=2):\n",
        "  fee = 5 + hours * 2.5\n",
        "  fee=round(fee,decimals)\n",
        "  return fee\n",
        "\n",
        "def displayFee(fee):\n",
        "  print(fee)\n",
        "\n",
        "\n",
        "h=int(input('enter number of hours : '))\n",
        "fee=calcFee(h,decimals=0)\n",
        "displayFee(fee)\n",
        "\n"
      ],
      "metadata": {
        "id": "3P1RECFpD7yL",
        "colab": {
          "base_uri": "https://localhost:8080/"
        },
        "outputId": "91795506-094d-4b2e-ddb5-7527e280e2e0"
      },
      "execution_count": null,
      "outputs": [
        {
          "output_type": "stream",
          "name": "stdout",
          "text": [
            "enter number of hours : 5\n",
            "18.0\n"
          ]
        }
      ]
    },
    {
      "cell_type": "markdown",
      "source": [
        "Reverse Function Recursion"
      ],
      "metadata": {
        "id": "7A033ugk7U09"
      }
    },
    {
      "cell_type": "code",
      "source": [
        "# we want to design a recurstion function that reverses the string, the string is Hello, you want it to return olleh\n",
        "def reverse(s):\n",
        "  if len(s) == 1:\n",
        "    return s\n",
        "  else:\n",
        "    return s[-1]+reverse(s[:-1])\n",
        "reverse('hello')\n",
        "\n",
        "\n",
        "\n"
      ],
      "metadata": {
        "colab": {
          "base_uri": "https://localhost:8080/",
          "height": 35
        },
        "id": "6oakkUy_HMjt",
        "outputId": "107a64d7-6d0b-4115-863c-0fb43f877ee9"
      },
      "execution_count": null,
      "outputs": [
        {
          "output_type": "execute_result",
          "data": {
            "text/plain": [
              "'olleh'"
            ],
            "application/vnd.google.colaboratory.intrinsic+json": {
              "type": "string"
            }
          },
          "metadata": {},
          "execution_count": 13
        }
      ]
    },
    {
      "cell_type": "markdown",
      "source": [
        "Student Class"
      ],
      "metadata": {
        "id": "9IQVgSz89GpG"
      }
    },
    {
      "cell_type": "code",
      "source": [
        "### define a class named student, student has 2 attributes name and number create two student objetcs out of this class\n",
        "class Student:\n",
        "  def __init__(self,name,number,courses):\n",
        "    self.name = name\n",
        "    self.number = number\n",
        "    self.courses = []\n",
        "\n",
        "  def enroll(self,newcourse):\n",
        "    if newcourse not in self.courses:\n",
        "          self.courses.append(newcourse)\n",
        "    else:\n",
        "      print('already enrolled')\n",
        "\n",
        "  def get_courses(self):\n",
        "    return self.courses\n",
        "\n"
      ],
      "metadata": {
        "id": "RifjH1ymYfV5"
      },
      "execution_count": null,
      "outputs": []
    },
    {
      "cell_type": "code",
      "source": [
        "s=Student('bob','12345',[1,3,4])\n"
      ],
      "metadata": {
        "id": "4ZK8GzL_aj0G",
        "colab": {
          "base_uri": "https://localhost:8080/"
        },
        "outputId": "556065a5-ae4a-4407-fd9f-50c04c5fd90d"
      },
      "execution_count": null,
      "outputs": [
        {
          "output_type": "execute_result",
          "data": {
            "text/plain": [
              "[]"
            ]
          },
          "metadata": {},
          "execution_count": 19
        }
      ]
    },
    {
      "cell_type": "code",
      "source": [
        "s.enroll('ABC123')\n",
        "s.enroll('ABC456')\n",
        "s.enroll('ABC789')\n",
        "s.get_courses()"
      ],
      "metadata": {
        "colab": {
          "base_uri": "https://localhost:8080/"
        },
        "id": "oTgY82ZNvaen",
        "outputId": "2775f584-a7a5-44ad-cee6-28c0561237c4"
      },
      "execution_count": null,
      "outputs": [
        {
          "output_type": "execute_result",
          "data": {
            "text/plain": [
              "['ABC123', 'ABC456', 'ABC789']"
            ]
          },
          "metadata": {},
          "execution_count": 13
        }
      ]
    }
  ],
  "metadata": {
    "colab": {
      "provenance": [],
      "authorship_tag": "ABX9TyNEucDNE+YpGEqOtYhZwaKN",
      "include_colab_link": true
    },
    "kernelspec": {
      "display_name": "Python 3",
      "name": "python3"
    },
    "language_info": {
      "name": "python"
    }
  },
  "nbformat": 4,
  "nbformat_minor": 0
}